{
  "nbformat": 4,
  "nbformat_minor": 0,
  "metadata": {
    "colab": {
      "provenance": []
    },
    "kernelspec": {
      "name": "python3",
      "display_name": "Python 3"
    },
    "language_info": {
      "name": "python"
    }
  },
  "cells": [
    {
      "cell_type": "code",
      "source": [
        "!pip install faker"
      ],
      "metadata": {
        "colab": {
          "base_uri": "https://localhost:8080/"
        },
        "id": "drMNttnr2s4z",
        "outputId": "e3aff615-85b7-4eca-dc44-864936460888"
      },
      "execution_count": null,
      "outputs": [
        {
          "output_type": "stream",
          "name": "stdout",
          "text": [
            "Collecting faker\n",
            "  Downloading faker-37.4.0-py3-none-any.whl.metadata (15 kB)\n",
            "Requirement already satisfied: tzdata in /usr/local/lib/python3.11/dist-packages (from faker) (2025.2)\n",
            "Downloading faker-37.4.0-py3-none-any.whl (1.9 MB)\n",
            "\u001b[2K   \u001b[90m━━━━━━━━━━━━━━━━━━━━━━━━━━━━━━━━━━━━━━━━\u001b[0m \u001b[32m1.9/1.9 MB\u001b[0m \u001b[31m19.3 MB/s\u001b[0m eta \u001b[36m0:00:00\u001b[0m\n",
            "\u001b[?25hInstalling collected packages: faker\n",
            "Successfully installed faker-37.4.0\n"
          ]
        }
      ]
    },
    {
      "cell_type": "code",
      "execution_count": null,
      "metadata": {
        "id": "wkE_PfPB2LgG"
      },
      "outputs": [],
      "source": [
        "import faker\n",
        "import random\n",
        "import pandas as pd\n",
        "\n",
        "fake = faker.Faker()\n",
        "\n",
        "sentiments = ['Positive', 'Negative', 'Neutral']\n",
        "\n",
        "legal_text_templates = {\n",
        "    'Positive': [\n",
        "        \"The court ruled in favor of the {party}, citing substantial compliance with all regulations.\",\n",
        "        \"The defendant successfully demonstrated their innocence, resulting in a full acquittal.\",\n",
        "        \"The client expressed satisfaction with the swift settlement process.\",\n",
        "        \"The case concluded with favorable terms for the company, avoiding litigation.\",\n",
        "        \"The contract was renewed based on excellent prior performance and mutual agreement.\",\n",
        "        \"The legal proceedings were resolved amicably, benefiting both parties.\",\n",
        "        \"The final judgment praised the party's adherence to ethical standards.\",\n",
        "        \"The settlement was achieved efficiently, with minimal court intervention.\",\n",
        "        \"Positive feedback was received regarding the legal counsel's performance.\",\n",
        "        \"The arbitration concluded with a win-win resolution.\"\n",
        "    ],\n",
        "    'Negative': [\n",
        "        \"The plaintiff failed to provide sufficient evidence, leading to dismissal of the case.\",\n",
        "        \"The company was fined for repeated violations of regulatory standards.\",\n",
        "        \"The judge expressed concern over non-compliance with court orders.\",\n",
        "        \"The defendant's actions were found to be fraudulent and deliberate.\",\n",
        "        \"The contract breach resulted in significant financial penalties.\",\n",
        "        \"Client complaints centered around the prolonged legal dispute.\",\n",
        "        \"The case revealed multiple compliance failures by the organization.\",\n",
        "        \"The ruling imposed strict sanctions for the breach of contract.\",\n",
        "        \"The court criticized the firm’s handling of the legal matter.\",\n",
        "        \"An internal audit uncovered unlawful practices by the legal entity.\"\n",
        "    ],\n",
        "    'Neutral': [\n",
        "        \"The court has requested additional documentation before proceeding.\",\n",
        "        \"The hearing was adjourned until further notice.\",\n",
        "        \"The case was transferred to a different jurisdiction for review.\",\n",
        "        \"The legal team submitted a revised motion for consideration.\",\n",
        "        \"The agreement includes clauses that defer specific responsibilities.\",\n",
        "        \"The judge ordered a review of procedural aspects.\",\n",
        "        \"No decision was reached pending further investigation.\",\n",
        "        \"The appeal was filed within the statutory time frame.\",\n",
        "        \"The status conference was rescheduled to a later date.\",\n",
        "        \"The parties are required to submit quarterly compliance reports.\"\n",
        "    ]\n",
        "}\n",
        "\n",
        "def generate_legal_dataset(num_records=1000):\n",
        "    data = []\n",
        "    for i in range(1, num_records + 1):\n",
        "        sentiment = random.choice(sentiments)\n",
        "        text_template = random.choice(legal_text_templates[sentiment])\n",
        "        party = fake.company() if \"{party}\" in text_template else \"\"\n",
        "        legal_text = text_template.format(party=party)\n",
        "        data.append([i, legal_text.strip(), sentiment])\n",
        "    return pd.DataFrame(data, columns=[\"ID\", \"Legal_Text\", \"Sentiment\"])\n",
        "\n",
        "df_legal_sentiment = generate_legal_dataset(1000)\n",
        "\n",
        "expanded_csv_path = \"legal_sentiment_dataset.csv\"\n",
        "df_legal_sentiment.to_csv(expanded_csv_path, index=False)"
      ]
    }
  ]
}